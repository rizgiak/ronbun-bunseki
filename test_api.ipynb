{
 "cells": [
  {
   "cell_type": "code",
   "execution_count": 3,
   "metadata": {},
   "outputs": [
    {
     "name": "stdout",
     "output_type": "stream",
     "text": [
      "2023-08-28 17:40:10,142 - INFO - NumExpr defaulting to 8 threads.\n"
     ]
    }
   ],
   "source": [
    "from journal_api import semanticscholar_api\n",
    "from journal_api import arxiv_api\n",
    "from journal_api import crossref_api\n",
    "from journal_api import googlebook_api\n",
    "from IPython.display import JSON"
   ]
  },
  {
   "cell_type": "code",
   "execution_count": 4,
   "metadata": {},
   "outputs": [
    {
     "name": "stdout",
     "output_type": "stream",
     "text": [
      "2023-08-28 17:40:14,093 - DEBUG - ss.search: Found! title=Design\n",
      "and Analysis of a Multimodal Grasper Having Shape Conformity and Within-Hand Manipulation With\n",
      "Adjustable Contact Forces\n"
     ]
    },
    {
     "data": {
      "application/json": {
       "abstract": "\n This paper presents the design, analysis, and testing of a novel multimodal grasper having the capabilities of shape conformation, within-hand manipulation, and a built-in compact mechanism to vary the forces at the contact surface. The proposed grasper has two important qualities: versatility and less complexity. The former refers to the ability to grasp a range of objects having different geometrical shape, size, and payload and perform in-hand manipulations such as rolling and sliding, and the latter refers to the uncomplicated design, and ease of planning and control strategies. Increasing the number of functions performed by the grasper to adapt to a variety of tasks in structured and unstructured environments without increasing the mechanical complexity is the main interest of this research. The proposed grasper consists of two hybrid jaws having a rigid inner structure encompassed by a flexible, active gripping surface. The flexibility of the active surface has been exploited to achieve shape conformation, and the same has been utilized with a compact mechanism, introduced in the jaws, to vary the contact forces while grasping and manipulating an object. Simple and scalable structure, compactness, low cost, and simple control scheme are the main features of the proposed design. Detailed kinematic and static analysis are presented to show the capability of the grasper to adjust and estimate the contact forces without using a force sensor. Experiments are conducted on the fabricated prototype to validate the different modes of operation and to evaluate the advantages of the proposed concept.",
       "authors": [
        "Nagamanikandan Govindan",
        "Asokan Thondiyath"
       ],
       "fieldsOfStudy": [
        "Computer Science"
       ],
       "paperId": "e5a3aca5321fc0e1b70fb51e4c4b6ff9dfbdb05d",
       "references": [
        "Variable-Friction Finger Surfaces to Enable Within-Hand Manipulation via Gripping and Sliding",
        "GraspMan - A Novel Robotic Platform with Grasping, Manipulation, and Multimodal Locomotion Capability",
        "In-Hand Manipulation Primitives for a Minimal, Underactuated Gripper With Active Surfaces",
        "The GR2 Gripper: An Underactuated Hand for Open-Loop In-Hand Planar Manipulation",
        "A novel type of compliant and underactuated robotic hand for dexterous grasping",
        "Extrinsic dexterity: In-hand manipulation with external forces",
        "Underactuated Adaptive Gripper Using Flexural Buckling",
        "Minimal Grasper: A Practical Robotic Grasper With Robust Performance for Pick-and-Place Tasks",
        "Design parameters of flexible grippers for grasping",
        "IkeaBot: An autonomous multi-robot coordinated furniture assembly system",
        "Implementation and control of the Velvet Fingers: A dexterous gripper with active surfaces",
        "Robotic finger mechanism equipped omnidirectional driving roller with two active rotational axes",
        "A Positive Pressure Universal Gripper Based on the Jamming of Granular Material",
        "Autonomous manipulation with a general-purpose simple hand",
        "Classifying human manipulation behavior",
        "On dexterity and dexterous manipulation",
        "Object grasping using a 1 DOF variable stiffness gripper actuated by a hybrid variable stiffness actuator",
        "The Highly Adaptive SDM Hand: Design and Performance Evaluation",
        "A variable compliance, soft gripper"
       ],
       "source": "semanticscholar",
       "title": "Design\nand Analysis of a Multimodal Grasper Having Shape Conformity and Within-Hand Manipulation With\nAdjustable Contact Forces",
       "tldr": "This paper presents the design, analysis, and testing of a novel multimodal grasper having the capabilities of shape conformation, within-hand manipulation, and a built-in compact mechanism to vary the forces at the contact surface.",
       "year": 2019
      },
      "text/plain": [
       "<IPython.core.display.JSON object>"
      ]
     },
     "execution_count": 4,
     "metadata": {
      "application/json": {
       "expanded": false,
       "root": "root"
      }
     },
     "output_type": "execute_result"
    }
   ],
   "source": [
    "title = \"Design\\nand Analysis of a Multimodal Grasper Having Shape Conformity and Within-Hand Manipulation With\\nAdjustable Contact Forces!!!??\"\n",
    "ss = semanticscholar_api.search(title)\n",
    "JSON(ss)"
   ]
  },
  {
   "cell_type": "code",
   "execution_count": 5,
   "metadata": {},
   "outputs": [
    {
     "name": "stdout",
     "output_type": "stream",
     "text": [
      "2023-08-28 17:40:18,602 - DEBUG - cr.search: Found! title=Design\n",
      "and Analysis of a Multimodal Grasper Having Shape Conformity and Within-Hand Manipulation With\n",
      "Adjustable Contact Forces\n"
     ]
    },
    {
     "data": {
      "application/json": {
       "abstract": "<jats:title>Abstract</jats:title>\n               <jats:p>This paper presents the design, analysis, and testing of a novel multimodal grasper having the capabilities of shape conformation, within-hand manipulation, and a built-in compact mechanism to vary the forces at the contact surface. The proposed grasper has two important qualities: versatility and less complexity. The former refers to the ability to grasp a range of objects having different geometrical shape, size, and payload and perform in-hand manipulations such as rolling and sliding, and the latter refers to the uncomplicated design, and ease of planning and control strategies. Increasing the number of functions performed by the grasper to adapt to a variety of tasks in structured and unstructured environments without increasing the mechanical complexity is the main interest of this research. The proposed grasper consists of two hybrid jaws having a rigid inner structure encompassed by a flexible, active gripping surface. The flexibility of the active surface has been exploited to achieve shape conformation, and the same has been utilized with a compact mechanism, introduced in the jaws, to vary the contact forces while grasping and manipulating an object. Simple and scalable structure, compactness, low cost, and simple control scheme are the main features of the proposed design. Detailed kinematic and static analysis are presented to show the capability of the grasper to adjust and estimate the contact forces without using a force sensor. Experiments are conducted on the fabricated prototype to validate the different modes of operation and to evaluate the advantages of the proposed concept.</jats:p>",
       "authors": [
        "Nagamanikandan Govindan",
        "Asokan Thondiyath"
       ],
       "fieldsOfStudy": [
        "Mechanical Engineering"
       ],
       "references": [
        "The Highly Adaptive SDM Hand: Design and Performance Evaluation",
        "A Positive Pressure Universal Gripper Based on the Jamming of Granular Material",
        "Autonomous Manipulation With a General-Purpose Simple Hand",
        "Underactuated Adaptive Gripper Using Flexural Buckling",
        "Minimal Grasper: A Practical Robotic Grasper With Robust Performance for Pick-and-Place Tasks",
        "Classifying Human Manipulation Behavior",
        "On Dexterity and Dexterous Manipulation",
        "A Novel Type of Compliant and Underactuated Robotic Hand for Dexterous Grasping",
        "Generality and Simple Hands",
        "Design Parameters of Flexible Grippers for Grasping",
        "The GR2 Gripper: An Underactuated Hand for Open-Loop In-Hand Planar Manipulation",
        "Extrinsic Dexterity: In-Hand Manipulation With External Forces",
        "Robotic Finger Mechanism Equipped Omnidirectional Driving Roller With Two Active Rotational Axes",
        "IkeaBot: An Autonomous Multi-Robot Coordinated Furniture Assembly System",
        "Variable-Friction Finger Surfaces to Enable Within-Hand Manipulation via Gripping and Sliding",
        "Velvet Fingers: A Dexterous Gripper With Active Surfaces",
        "In-Hand Manipulation Primitives for a Minimal, Underactuated Gripper With Active Surfaces",
        "Object Grasping Using a 1 DOF Variable Stiffness Gripper Actuated by a Hybrid Variable Stiffness Actuator",
        "A Variable Compliance, Soft Gripper",
        "GraspMan—A Novel Robotic Platform With Grasping, Manipulation, and Multimodal Locomotion Capability"
       ],
       "source": "crossref",
       "title": "Design\nand Analysis of a Multimodal Grasper Having Shape Conformity and Within-Hand Manipulation With\nAdjustable Contact Forces",
       "tldr": "",
       "year": 2019
      },
      "text/plain": [
       "<IPython.core.display.JSON object>"
      ]
     },
     "execution_count": 5,
     "metadata": {
      "application/json": {
       "expanded": false,
       "root": "root"
      }
     },
     "output_type": "execute_result"
    }
   ],
   "source": [
    "cr = crossref_api.search(title)\n",
    "JSON(cr)"
   ]
  },
  {
   "cell_type": "code",
   "execution_count": 6,
   "metadata": {},
   "outputs": [
    {
     "data": {
      "text/plain": [
       "False"
      ]
     },
     "execution_count": 6,
     "metadata": {},
     "output_type": "execute_result"
    }
   ],
   "source": [
    "len(ss[\"references\"])==len(cr[\"references\"])"
   ]
  },
  {
   "cell_type": "code",
   "execution_count": 7,
   "metadata": {},
   "outputs": [
    {
     "name": "stdout",
     "output_type": "stream",
     "text": [
      "2023-08-28 17:40:54,297 - DEBUG - ax.search:  Matched! title=Quantum Dynamical Approach to Predicting the Optical Pumping Threshold for Lasing in Organic Materials!!!??\n"
     ]
    },
    {
     "data": {
      "application/json": {
       "abstract": "We present a quantum dynamic study on organic lasing phenomena, which is a\nchallenging issue in organic optoelectronics. Previously, phenomenological\nmethod has achieved success in describing experimental observation. However, it\ncannot directly bridge the laser threshold with molecular electronic structure\nparameters and cavity parameters. Quantum dynamics method for describing\norganic lasing and obtaining laser threshold is highly expected. In this\nLetter, we first propose a microscopic model suitable for describing the lasing\ndynamics of organic molecular system and we apply the time-dependent\nwave-packet diffusion (TDWPD) to reveal the microscopic quantum dynamical\nprocess for the optical pumped lasing behavior. Lasing threshold is obtained\nfrom the onset of output as a function of optical input pumping. We predict\nthat the lasing threshold has an optimal value as function of the cavity volume\nand depends linearly on the intracavity photon leakage rate. The\nstructure-property relationships between molecular electronic structure\nparameters (including the energy of molecular excited state, the transition\ndipole and the organization energy) and the laser threshold obtained through\nnumerical calculations are in qualitative agreement the experimental results,\nwhich also confirms the reliability of our approach. This work is beneficial to\nunderstanding the mechanism of organic laser and optimizing the design of\norganic laser materials. TOC",
       "authors": [
        "Bin Zhang",
        "Zhigang Shuai"
       ],
       "fieldsOfStudy": [
        "physics.chem-ph"
       ],
       "references": [],
       "source": "arxiv",
       "title": "Quantum Dynamical Approach to Predicting the Optical Pumping Threshold for Lasing in Organic Materials",
       "tldr": "",
       "year": 2023
      },
      "text/plain": [
       "<IPython.core.display.JSON object>"
      ]
     },
     "execution_count": 7,
     "metadata": {
      "application/json": {
       "expanded": false,
       "root": "root"
      }
     },
     "output_type": "execute_result"
    }
   ],
   "source": [
    "title = \"Quantum Dynamical Approach to Predicting the Optical Pumping Threshold for Lasing in Organic Materials!!!??\"\n",
    "aa = arxiv_api.search(title)\n",
    "JSON(aa)"
   ]
  },
  {
   "cell_type": "code",
   "execution_count": 8,
   "metadata": {},
   "outputs": [
    {
     "name": "stdout",
     "output_type": "stream",
     "text": [
      "2023-08-28 17:41:00,136 - DEBUG - gb.search:  Matched! title=Perspectives on Structure and Mechanism in Organic Chemistry \n"
     ]
    },
    {
     "data": {
      "application/json": {
       "abstract": "Helps to develop new perspectives and a deeper understanding oforganic chemistry Instructors and students alike have praised Perspectives onStructure and Mechanism in Organic Chemistry because itmotivates readers to think about organic chemistry in new andexciting ways. Based on the author's first hand classroomexperience, the text uses complementary conceptual models to givenew perspectives on the structures and reactions of organiccompounds. The first five chapters of the text discuss the structure andbonding of stable molecules and reactive intermediates. These arefollowed by a chapter exploring the methods that organic chemistsuse to study reaction mechanisms. The remaining chapters examinedifferent types of acid-base, substitution, addition, elimination,pericyclic, and photochemical reactions. This Second Edition has been thoroughly updated andrevised to reflect the latest findings in physical organicchemistry. Moreover, this edition features: New references to the latest primary and review literature More study questions to help readers better understand andapply new concepts in organic chemistry Coverage of new topics, including density functional theory,quantum theory of atoms in molecules, Marcus theory, molecularsimulations, effect of solvent on organic reactions, asymmetricinduction in nucleophilic additions to carbonyl compounds, anddynamic effects on reaction pathways The nearly 400 problems in the text do more than allow studentsto test their understanding of the concepts presented in eachchapter. They also encourage readers to actively review andevaluate the chemical literature and to develop and defend theirown ideas. With its emphasis on complementary models and independentproblem-solving, this text is ideal for upper-level undergraduateand graduate courses in organic chemistry.",
       "authors": [
        "Felix A. Carroll"
       ],
       "fieldsOfStudy": [
        "Science"
       ],
       "references": [],
       "source": "gbook",
       "title": "Perspectives on Structure and Mechanism in Organic Chemistry ",
       "tldr": "",
       "year": 2011
      },
      "text/plain": [
       "<IPython.core.display.JSON object>"
      ]
     },
     "execution_count": 8,
     "metadata": {
      "application/json": {
       "expanded": false,
       "root": "root"
      }
     },
     "output_type": "execute_result"
    }
   ],
   "source": [
    "title = \"Perspectives on Structure and Mechanism in Organic Chemistry\"\n",
    "gb = googlebook_api.search(title)\n",
    "JSON(gb)"
   ]
  },
  {
   "cell_type": "code",
   "execution_count": 9,
   "metadata": {},
   "outputs": [
    {
     "name": "stdout",
     "output_type": "stream",
     "text": [
      "2023-08-28 17:41:08,776 - DEBUG - ss.search: Found! Title doesn't matched. title=Perspectives on Structure and Mechanism in Organic Chemistry, result=Solutions Manual for Perspectives on Structure and Mechanism in Organic Chemistry\n",
      "2023-08-28 17:41:11,110 - DEBUG - cr.search: Found! Title doesn't matched. title=Perspectives on Structure and Mechanism in Organic Chemistry, result=Perspectives on Structure and Mechanism in Organic Chemistry (Carroll, Felix A.)\n",
      "2023-08-28 17:41:12,155 - DEBUG - ax.search: Found! Title doesn't match! title=Perspectives on Structure and Mechanism in Organic Chemistry, result=Interplay between Defects, Disorder and Flexibility in Metal-Organic Frameworks\n",
      "2023-08-28 17:41:12,618 - DEBUG - gb.search:  Matched! title=Perspectives on Structure and Mechanism in Organic Chemistry \n",
      "2023-08-28 17:41:12,622 - DEBUG - journal_api._remake_result: l=[False, False, False, False, True]\n"
     ]
    },
    {
     "data": {
      "text/plain": [
       "{'title': 'Perspectives on Structure and Mechanism in Organic Chemistry ',\n",
       " 'abstract': \"Helps to develop new perspectives and a deeper understanding oforganic chemistry Instructors and students alike have praised Perspectives onStructure and Mechanism in Organic Chemistry because itmotivates readers to think about organic chemistry in new andexciting ways. Based on the author's first hand classroomexperience, the text uses complementary conceptual models to givenew perspectives on the structures and reactions of organiccompounds. The first five chapters of the text discuss the structure andbonding of stable molecules and reactive intermediates. These arefollowed by a chapter exploring the methods that organic chemistsuse to study reaction mechanisms. The remaining chapters examinedifferent types of acid-base, substitution, addition, elimination,pericyclic, and photochemical reactions. This Second Edition has been thoroughly updated andrevised to reflect the latest findings in physical organicchemistry. Moreover, this edition features: New references to the latest primary and review literature More study questions to help readers better understand andapply new concepts in organic chemistry Coverage of new topics, including density functional theory,quantum theory of atoms in molecules, Marcus theory, molecularsimulations, effect of solvent on organic reactions, asymmetricinduction in nucleophilic additions to carbonyl compounds, anddynamic effects on reaction pathways The nearly 400 problems in the text do more than allow studentsto test their understanding of the concepts presented in eachchapter. They also encourage readers to actively review andevaluate the chemical literature and to develop and defend theirown ideas. With its emphasis on complementary models and independentproblem-solving, this text is ideal for upper-level undergraduateand graduate courses in organic chemistry.\",\n",
       " 'tldr': '',\n",
       " 'year': 2011,\n",
       " 'fieldsOfStudy': ['Science'],\n",
       " 'authors': ['Felix A. Carroll'],\n",
       " 'references': [],\n",
       " 'source': 'gbook'}"
      ]
     },
     "execution_count": 9,
     "metadata": {},
     "output_type": "execute_result"
    }
   ],
   "source": [
    "from journal_api.journal_api import JournalAPI\n",
    "\n",
    "title = \"Perspectives on Structure and Mechanism in Organic Chemistry\"\n",
    "\n",
    "journal_api = JournalAPI()\n",
    "journal_api.search(title)"
   ]
  }
 ],
 "metadata": {
  "kernelspec": {
   "display_name": "py310",
   "language": "python",
   "name": "python3"
  },
  "language_info": {
   "codemirror_mode": {
    "name": "ipython",
    "version": 3
   },
   "file_extension": ".py",
   "mimetype": "text/x-python",
   "name": "python",
   "nbconvert_exporter": "python",
   "pygments_lexer": "ipython3",
   "version": "3.10.11"
  },
  "orig_nbformat": 4
 },
 "nbformat": 4,
 "nbformat_minor": 2
}
